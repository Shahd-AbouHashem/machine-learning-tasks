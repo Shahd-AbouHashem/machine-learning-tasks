{
  "nbformat": 4,
  "nbformat_minor": 0,
  "metadata": {
    "colab": {
      "provenance": [],
      "gpuType": "T4"
    },
    "kernelspec": {
      "name": "python3",
      "display_name": "Python 3"
    },
    "language_info": {
      "name": "python"
    },
    "accelerator": "GPU"
  },
  "cells": [
    {
      "cell_type": "code",
      "source": [
        "!pip -q install xgboost"
      ],
      "metadata": {
        "id": "QHBcaQqAZkZo"
      },
      "execution_count": 3,
      "outputs": []
    },
    {
      "cell_type": "code",
      "execution_count": 4,
      "metadata": {
        "id": "A2vimSeuYppU"
      },
      "outputs": [],
      "source": [
        "import os\n",
        "import numpy as np\n",
        "import pandas as pd\n",
        "import matplotlib.pyplot as plt\n",
        "from sklearn.compose import ColumnTransformer\n",
        "from sklearn.preprocessing import OneHotEncoder\n",
        "from sklearn.pipeline import Pipeline\n",
        "from sklearn.model_selection import train_test_split, GridSearchCV\n",
        "from sklearn.metrics import accuracy_score, f1_score, confusion_matrix, ConfusionMatrixDisplay, classification_report\n",
        "from sklearn.ensemble import RandomForestClassifier\n",
        "from xgboost import XGBClassifier\n",
        "import warnings\n",
        "warnings.filterwarnings(\"ignore\")"
      ]
    },
    {
      "cell_type": "code",
      "source": [
        "csv_path = \"forest_dataset.csv\"\n",
        "assert os.path.exists(csv_path), f\"File not found at {csv_path}. Upload forest_dataset.csv to Colab (left sidebar > Files).\"\n",
        "\n",
        "df = pd.read_csv(csv_path)"
      ],
      "metadata": {
        "id": "vvXabnjdbRJJ"
      },
      "execution_count": 5,
      "outputs": []
    },
    {
      "cell_type": "code",
      "source": [
        "target_col = \"Cover_Type\" if \"Cover_Type\" in df.columns else df.columns[-1]\n",
        "X = df.drop(columns=[target_col])\n",
        "y = df[target_col]\n",
        "\n",
        "from sklearn.preprocessing import LabelEncoder\n",
        "\n",
        "# Encode labels so they start at 0\n",
        "le = LabelEncoder()\n",
        "y = le.fit_transform(y)\n",
        "\n",
        "# Then split again\n",
        "X_train, X_test, y_train, y_test = train_test_split( X, y, test_size=0.2, stratify=y, random_state=42)"
      ],
      "metadata": {
        "id": "_KoSC788bY5d"
      },
      "execution_count": 12,
      "outputs": []
    },
    {
      "cell_type": "code",
      "source": [
        "# Preprocessing\n",
        "categorical_cols = [c for c in X.columns if X[c].dtype == \"object\" or str(X[c].dtype) == \"category\"]\n",
        "numeric_cols     = [c for c in X.columns if c not in categorical_cols]\n",
        "\n",
        "preprocess = ColumnTransformer(\n",
        "    transformers=[\n",
        "        (\"cat\", OneHotEncoder(handle_unknown=\"ignore\", sparse_output=False), categorical_cols),\n",
        "        (\"num\", \"passthrough\", numeric_cols),\n",
        "    ],\n",
        "    remainder=\"drop\"\n",
        ")"
      ],
      "metadata": {
        "id": "d0V0j9debraw"
      },
      "execution_count": 13,
      "outputs": []
    },
    {
      "cell_type": "code",
      "source": [
        "# models\n",
        "rf = RandomForestClassifier(n_estimators=300, max_depth=None, n_jobs=-1, random_state=42)\n",
        "xgb = XGBClassifier(n_estimators=400, max_depth=8, learning_rate=0.1, subsample=0.8,colsample_bytree=0.8, objective=\"multi:softprob\", eval_metric=\"mlogloss\",tree_method=\"hist\", random_state=42)\n",
        "\n",
        "rf_pipe  = Pipeline([(\"prep\", preprocess), (\"model\", rf)])\n",
        "xgb_pipe = Pipeline([(\"prep\", preprocess), (\"model\", xgb)])\n",
        "\n"
      ],
      "metadata": {
        "id": "v-UdAfXkbyWh"
      },
      "execution_count": 14,
      "outputs": []
    },
    {
      "cell_type": "code",
      "source": [
        "# Train & evaluate baseline models\n",
        "def evaluate(pipe, name):\n",
        "    pipe.fit(X_train, y_train)\n",
        "    preds = pipe.predict(X_test)\n",
        "    acc = accuracy_score(y_test, preds)\n",
        "    f1m = f1_score(y_test, preds, average=\"macro\")\n",
        "    print(f\"{name} — Accuracy: {acc:.4f} | Macro-F1: {f1m:.4f}\")\n",
        "    return {\"name\": name, \"pipe\": pipe, \"acc\": acc, \"f1m\": f1m}\n",
        "\n",
        "print(\"Baseline Models\")\n",
        "results = []\n",
        "results.append(evaluate(rf_pipe,  \"RandomForest (baseline)\"))\n",
        "results.append(evaluate(xgb_pipe, \"XGBoost (baseline)\"))\n"
      ],
      "metadata": {
        "colab": {
          "base_uri": "https://localhost:8080/"
        },
        "id": "qMXhJGM9cKi0",
        "outputId": "29ba44cc-5bea-44a6-9abc-c480242e7b54"
      },
      "execution_count": 15,
      "outputs": [
        {
          "output_type": "stream",
          "name": "stdout",
          "text": [
            "Baseline Models\n",
            "RandomForest (baseline) — Accuracy: 0.7960 | Macro-F1: 0.6697\n",
            "XGBoost (baseline) — Accuracy: 0.8040 | Macro-F1: 0.7073\n"
          ]
        }
      ]
    },
    {
      "cell_type": "code",
      "source": [
        "# RandomForest small grid\n",
        "rf_grid = {\n",
        "    \"model__n_estimators\": [200, 400],\n",
        "    \"model__max_depth\": [None, 20],\n",
        "}\n",
        "\n",
        "rf_tuned = GridSearchCV(\n",
        "    Pipeline([(\"prep\", preprocess), (\"model\", RandomForestClassifier(random_state=42, n_jobs=-1))]),\n",
        "    rf_grid, cv=3, n_jobs=-1, scoring=\"accuracy\", verbose=0\n",
        ")\n",
        "rf_tuned.fit(X_train, y_train)\n",
        "rf_best = rf_tuned.best_estimator_\n",
        "rf_preds = rf_best.predict(X_test)\n",
        "rf_acc = accuracy_score(y_test, rf_preds)\n",
        "rf_f1m = f1_score(y_test, rf_preds, average=\"macro\")\n",
        "print(f\"RandomForest (tuned) — Best Params: {rf_tuned.best_params_}\")\n",
        "print(f\"RandomForest (tuned) — Accuracy: {rf_acc:.4f} | Macro-F1: {rf_f1m:.4f}\")\n",
        "results.append({\"name\": \"RandomForest (tuned)\", \"pipe\": rf_best, \"acc\": rf_acc, \"f1m\": rf_f1m})\n",
        "\n",
        "# XGBoost small grid\n",
        "xgb_grid = {\n",
        "    \"model__n_estimators\": [300, 500],\n",
        "    \"model__max_depth\": [6, 10],\n",
        "}\n",
        "\n",
        "xgb_tuned = GridSearchCV(\n",
        "    Pipeline([(\"prep\", preprocess), (\"model\", XGBClassifier(\n",
        "        objective=\"multi:softprob\", eval_metric=\"mlogloss\",\n",
        "        tree_method=\"hist\", random_state=42\n",
        "    ))]),\n",
        "    xgb_grid, cv=3, n_jobs=-1, scoring=\"accuracy\", verbose=0\n",
        ")\n",
        "xgb_tuned.fit(X_train, y_train)\n",
        "xgb_best = xgb_tuned.best_estimator_\n",
        "xgb_preds = xgb_best.predict(X_test)\n",
        "xgb_acc = accuracy_score(y_test, xgb_preds)\n",
        "xgb_f1m = f1_score(y_test, xgb_preds, average=\"macro\")\n",
        "print(f\"XGBoost (tuned) — Best Params: {xgb_tuned.best_params_}\")\n",
        "print(f\"XGBoost (tuned) — Accuracy: {xgb_acc:.4f} | Macro-F1: {xgb_f1m:.4f}\")\n",
        "results.append({\"name\": \"XGBoost (tuned)\", \"pipe\": xgb_best, \"acc\": xgb_acc, \"f1m\": xgb_f1m})\n"
      ],
      "metadata": {
        "colab": {
          "base_uri": "https://localhost:8080/"
        },
        "id": "I-Km4JitdPQv",
        "outputId": "84e4aa92-2fba-4d0f-a63c-d073a85af831"
      },
      "execution_count": 20,
      "outputs": [
        {
          "output_type": "stream",
          "name": "stdout",
          "text": [
            "RandomForest (tuned) — Best Params: {'model__max_depth': None, 'model__n_estimators': 400}\n",
            "RandomForest (tuned) — Accuracy: 0.7960 | Macro-F1: 0.6831\n",
            "XGBoost (tuned) — Best Params: {'model__max_depth': 10, 'model__n_estimators': 500}\n",
            "XGBoost (tuned) — Accuracy: 0.8140 | Macro-F1: 0.7170\n"
          ]
        }
      ]
    },
    {
      "cell_type": "code",
      "source": [
        "res_df = pd.DataFrame(results).drop(columns=[\"pipe\"])\n",
        "display(res_df.sort_values(by=\"acc\", ascending=False).reset_index(drop=True))"
      ],
      "metadata": {
        "colab": {
          "base_uri": "https://localhost:8080/",
          "height": 237
        },
        "id": "TEmiBpF4eYbl",
        "outputId": "df2c89e8-67e9-4a35-a729-87fdb1d740f2"
      },
      "execution_count": 21,
      "outputs": [
        {
          "output_type": "display_data",
          "data": {
            "text/plain": [
              "                      name    acc       f1m\n",
              "0          XGBoost (tuned)  0.814  0.716983\n",
              "1       XGBoost (baseline)  0.804  0.707318\n",
              "2  RandomForest (baseline)  0.796  0.669682\n",
              "3     RandomForest (tuned)  0.796  0.668842\n",
              "4     RandomForest (tuned)  0.796  0.668842\n",
              "5     RandomForest (tuned)  0.796  0.683117"
            ],
            "text/html": [
              "\n",
              "  <div id=\"df-b50c9bcb-6e33-4230-a387-0bacb5288dc5\" class=\"colab-df-container\">\n",
              "    <div>\n",
              "<style scoped>\n",
              "    .dataframe tbody tr th:only-of-type {\n",
              "        vertical-align: middle;\n",
              "    }\n",
              "\n",
              "    .dataframe tbody tr th {\n",
              "        vertical-align: top;\n",
              "    }\n",
              "\n",
              "    .dataframe thead th {\n",
              "        text-align: right;\n",
              "    }\n",
              "</style>\n",
              "<table border=\"1\" class=\"dataframe\">\n",
              "  <thead>\n",
              "    <tr style=\"text-align: right;\">\n",
              "      <th></th>\n",
              "      <th>name</th>\n",
              "      <th>acc</th>\n",
              "      <th>f1m</th>\n",
              "    </tr>\n",
              "  </thead>\n",
              "  <tbody>\n",
              "    <tr>\n",
              "      <th>0</th>\n",
              "      <td>XGBoost (tuned)</td>\n",
              "      <td>0.814</td>\n",
              "      <td>0.716983</td>\n",
              "    </tr>\n",
              "    <tr>\n",
              "      <th>1</th>\n",
              "      <td>XGBoost (baseline)</td>\n",
              "      <td>0.804</td>\n",
              "      <td>0.707318</td>\n",
              "    </tr>\n",
              "    <tr>\n",
              "      <th>2</th>\n",
              "      <td>RandomForest (baseline)</td>\n",
              "      <td>0.796</td>\n",
              "      <td>0.669682</td>\n",
              "    </tr>\n",
              "    <tr>\n",
              "      <th>3</th>\n",
              "      <td>RandomForest (tuned)</td>\n",
              "      <td>0.796</td>\n",
              "      <td>0.668842</td>\n",
              "    </tr>\n",
              "    <tr>\n",
              "      <th>4</th>\n",
              "      <td>RandomForest (tuned)</td>\n",
              "      <td>0.796</td>\n",
              "      <td>0.668842</td>\n",
              "    </tr>\n",
              "    <tr>\n",
              "      <th>5</th>\n",
              "      <td>RandomForest (tuned)</td>\n",
              "      <td>0.796</td>\n",
              "      <td>0.683117</td>\n",
              "    </tr>\n",
              "  </tbody>\n",
              "</table>\n",
              "</div>\n",
              "    <div class=\"colab-df-buttons\">\n",
              "\n",
              "  <div class=\"colab-df-container\">\n",
              "    <button class=\"colab-df-convert\" onclick=\"convertToInteractive('df-b50c9bcb-6e33-4230-a387-0bacb5288dc5')\"\n",
              "            title=\"Convert this dataframe to an interactive table.\"\n",
              "            style=\"display:none;\">\n",
              "\n",
              "  <svg xmlns=\"http://www.w3.org/2000/svg\" height=\"24px\" viewBox=\"0 -960 960 960\">\n",
              "    <path d=\"M120-120v-720h720v720H120Zm60-500h600v-160H180v160Zm220 220h160v-160H400v160Zm0 220h160v-160H400v160ZM180-400h160v-160H180v160Zm440 0h160v-160H620v160ZM180-180h160v-160H180v160Zm440 0h160v-160H620v160Z\"/>\n",
              "  </svg>\n",
              "    </button>\n",
              "\n",
              "  <style>\n",
              "    .colab-df-container {\n",
              "      display:flex;\n",
              "      gap: 12px;\n",
              "    }\n",
              "\n",
              "    .colab-df-convert {\n",
              "      background-color: #E8F0FE;\n",
              "      border: none;\n",
              "      border-radius: 50%;\n",
              "      cursor: pointer;\n",
              "      display: none;\n",
              "      fill: #1967D2;\n",
              "      height: 32px;\n",
              "      padding: 0 0 0 0;\n",
              "      width: 32px;\n",
              "    }\n",
              "\n",
              "    .colab-df-convert:hover {\n",
              "      background-color: #E2EBFA;\n",
              "      box-shadow: 0px 1px 2px rgba(60, 64, 67, 0.3), 0px 1px 3px 1px rgba(60, 64, 67, 0.15);\n",
              "      fill: #174EA6;\n",
              "    }\n",
              "\n",
              "    .colab-df-buttons div {\n",
              "      margin-bottom: 4px;\n",
              "    }\n",
              "\n",
              "    [theme=dark] .colab-df-convert {\n",
              "      background-color: #3B4455;\n",
              "      fill: #D2E3FC;\n",
              "    }\n",
              "\n",
              "    [theme=dark] .colab-df-convert:hover {\n",
              "      background-color: #434B5C;\n",
              "      box-shadow: 0px 1px 3px 1px rgba(0, 0, 0, 0.15);\n",
              "      filter: drop-shadow(0px 1px 2px rgba(0, 0, 0, 0.3));\n",
              "      fill: #FFFFFF;\n",
              "    }\n",
              "  </style>\n",
              "\n",
              "    <script>\n",
              "      const buttonEl =\n",
              "        document.querySelector('#df-b50c9bcb-6e33-4230-a387-0bacb5288dc5 button.colab-df-convert');\n",
              "      buttonEl.style.display =\n",
              "        google.colab.kernel.accessAllowed ? 'block' : 'none';\n",
              "\n",
              "      async function convertToInteractive(key) {\n",
              "        const element = document.querySelector('#df-b50c9bcb-6e33-4230-a387-0bacb5288dc5');\n",
              "        const dataTable =\n",
              "          await google.colab.kernel.invokeFunction('convertToInteractive',\n",
              "                                                    [key], {});\n",
              "        if (!dataTable) return;\n",
              "\n",
              "        const docLinkHtml = 'Like what you see? Visit the ' +\n",
              "          '<a target=\"_blank\" href=https://colab.research.google.com/notebooks/data_table.ipynb>data table notebook</a>'\n",
              "          + ' to learn more about interactive tables.';\n",
              "        element.innerHTML = '';\n",
              "        dataTable['output_type'] = 'display_data';\n",
              "        await google.colab.output.renderOutput(dataTable, element);\n",
              "        const docLink = document.createElement('div');\n",
              "        docLink.innerHTML = docLinkHtml;\n",
              "        element.appendChild(docLink);\n",
              "      }\n",
              "    </script>\n",
              "  </div>\n",
              "\n",
              "\n",
              "    <div id=\"df-ec904e27-1ad6-4429-a562-6765cb8dff6a\">\n",
              "      <button class=\"colab-df-quickchart\" onclick=\"quickchart('df-ec904e27-1ad6-4429-a562-6765cb8dff6a')\"\n",
              "                title=\"Suggest charts\"\n",
              "                style=\"display:none;\">\n",
              "\n",
              "<svg xmlns=\"http://www.w3.org/2000/svg\" height=\"24px\"viewBox=\"0 0 24 24\"\n",
              "     width=\"24px\">\n",
              "    <g>\n",
              "        <path d=\"M19 3H5c-1.1 0-2 .9-2 2v14c0 1.1.9 2 2 2h14c1.1 0 2-.9 2-2V5c0-1.1-.9-2-2-2zM9 17H7v-7h2v7zm4 0h-2V7h2v10zm4 0h-2v-4h2v4z\"/>\n",
              "    </g>\n",
              "</svg>\n",
              "      </button>\n",
              "\n",
              "<style>\n",
              "  .colab-df-quickchart {\n",
              "      --bg-color: #E8F0FE;\n",
              "      --fill-color: #1967D2;\n",
              "      --hover-bg-color: #E2EBFA;\n",
              "      --hover-fill-color: #174EA6;\n",
              "      --disabled-fill-color: #AAA;\n",
              "      --disabled-bg-color: #DDD;\n",
              "  }\n",
              "\n",
              "  [theme=dark] .colab-df-quickchart {\n",
              "      --bg-color: #3B4455;\n",
              "      --fill-color: #D2E3FC;\n",
              "      --hover-bg-color: #434B5C;\n",
              "      --hover-fill-color: #FFFFFF;\n",
              "      --disabled-bg-color: #3B4455;\n",
              "      --disabled-fill-color: #666;\n",
              "  }\n",
              "\n",
              "  .colab-df-quickchart {\n",
              "    background-color: var(--bg-color);\n",
              "    border: none;\n",
              "    border-radius: 50%;\n",
              "    cursor: pointer;\n",
              "    display: none;\n",
              "    fill: var(--fill-color);\n",
              "    height: 32px;\n",
              "    padding: 0;\n",
              "    width: 32px;\n",
              "  }\n",
              "\n",
              "  .colab-df-quickchart:hover {\n",
              "    background-color: var(--hover-bg-color);\n",
              "    box-shadow: 0 1px 2px rgba(60, 64, 67, 0.3), 0 1px 3px 1px rgba(60, 64, 67, 0.15);\n",
              "    fill: var(--button-hover-fill-color);\n",
              "  }\n",
              "\n",
              "  .colab-df-quickchart-complete:disabled,\n",
              "  .colab-df-quickchart-complete:disabled:hover {\n",
              "    background-color: var(--disabled-bg-color);\n",
              "    fill: var(--disabled-fill-color);\n",
              "    box-shadow: none;\n",
              "  }\n",
              "\n",
              "  .colab-df-spinner {\n",
              "    border: 2px solid var(--fill-color);\n",
              "    border-color: transparent;\n",
              "    border-bottom-color: var(--fill-color);\n",
              "    animation:\n",
              "      spin 1s steps(1) infinite;\n",
              "  }\n",
              "\n",
              "  @keyframes spin {\n",
              "    0% {\n",
              "      border-color: transparent;\n",
              "      border-bottom-color: var(--fill-color);\n",
              "      border-left-color: var(--fill-color);\n",
              "    }\n",
              "    20% {\n",
              "      border-color: transparent;\n",
              "      border-left-color: var(--fill-color);\n",
              "      border-top-color: var(--fill-color);\n",
              "    }\n",
              "    30% {\n",
              "      border-color: transparent;\n",
              "      border-left-color: var(--fill-color);\n",
              "      border-top-color: var(--fill-color);\n",
              "      border-right-color: var(--fill-color);\n",
              "    }\n",
              "    40% {\n",
              "      border-color: transparent;\n",
              "      border-right-color: var(--fill-color);\n",
              "      border-top-color: var(--fill-color);\n",
              "    }\n",
              "    60% {\n",
              "      border-color: transparent;\n",
              "      border-right-color: var(--fill-color);\n",
              "    }\n",
              "    80% {\n",
              "      border-color: transparent;\n",
              "      border-right-color: var(--fill-color);\n",
              "      border-bottom-color: var(--fill-color);\n",
              "    }\n",
              "    90% {\n",
              "      border-color: transparent;\n",
              "      border-bottom-color: var(--fill-color);\n",
              "    }\n",
              "  }\n",
              "</style>\n",
              "\n",
              "      <script>\n",
              "        async function quickchart(key) {\n",
              "          const quickchartButtonEl =\n",
              "            document.querySelector('#' + key + ' button');\n",
              "          quickchartButtonEl.disabled = true;  // To prevent multiple clicks.\n",
              "          quickchartButtonEl.classList.add('colab-df-spinner');\n",
              "          try {\n",
              "            const charts = await google.colab.kernel.invokeFunction(\n",
              "                'suggestCharts', [key], {});\n",
              "          } catch (error) {\n",
              "            console.error('Error during call to suggestCharts:', error);\n",
              "          }\n",
              "          quickchartButtonEl.classList.remove('colab-df-spinner');\n",
              "          quickchartButtonEl.classList.add('colab-df-quickchart-complete');\n",
              "        }\n",
              "        (() => {\n",
              "          let quickchartButtonEl =\n",
              "            document.querySelector('#df-ec904e27-1ad6-4429-a562-6765cb8dff6a button');\n",
              "          quickchartButtonEl.style.display =\n",
              "            google.colab.kernel.accessAllowed ? 'block' : 'none';\n",
              "        })();\n",
              "      </script>\n",
              "    </div>\n",
              "\n",
              "    </div>\n",
              "  </div>\n"
            ],
            "application/vnd.google.colaboratory.intrinsic+json": {
              "type": "dataframe",
              "summary": "{\n  \"name\": \"display(res_df\",\n  \"rows\": 6,\n  \"fields\": [\n    {\n      \"column\": \"name\",\n      \"properties\": {\n        \"dtype\": \"string\",\n        \"num_unique_values\": 4,\n        \"samples\": [\n          \"XGBoost (baseline)\",\n          \"RandomForest (tuned)\",\n          \"XGBoost (tuned)\"\n        ],\n        \"semantic_type\": \"\",\n        \"description\": \"\"\n      }\n    },\n    {\n      \"column\": \"acc\",\n      \"properties\": {\n        \"dtype\": \"number\",\n        \"std\": 0.007420691791650302,\n        \"min\": 0.796,\n        \"max\": 0.814,\n        \"num_unique_values\": 3,\n        \"samples\": [\n          0.814,\n          0.804,\n          0.796\n        ],\n        \"semantic_type\": \"\",\n        \"description\": \"\"\n      }\n    },\n    {\n      \"column\": \"f1m\",\n      \"properties\": {\n        \"dtype\": \"number\",\n        \"std\": 0.021342475573057306,\n        \"min\": 0.6688422804771987,\n        \"max\": 0.7169825117841055,\n        \"num_unique_values\": 5,\n        \"samples\": [\n          0.7073182936481379,\n          0.6831168502257527,\n          0.669681918177055\n        ],\n        \"semantic_type\": \"\",\n        \"description\": \"\"\n      }\n    }\n  ]\n}"
            }
          },
          "metadata": {}
        }
      ]
    },
    {
      "cell_type": "code",
      "source": [
        "best = sorted(results, key=lambda r: (r[\"acc\"], r[\"f1m\"]), reverse=True)[0]\n",
        "best_name = best[\"name\"]\n",
        "best_pipe = best[\"pipe\"]\n",
        "print(f\"\\nBest model selected: {best_name}\")"
      ],
      "metadata": {
        "colab": {
          "base_uri": "https://localhost:8080/"
        },
        "id": "U6AScuyfeaj6",
        "outputId": "7b0849bb-d5de-41bb-e967-b49f51ecafb5"
      },
      "execution_count": 22,
      "outputs": [
        {
          "output_type": "stream",
          "name": "stdout",
          "text": [
            "\n",
            "Best model selected: XGBoost (tuned)\n"
          ]
        }
      ]
    },
    {
      "cell_type": "code",
      "source": [
        "y_pred_best = best_pipe.predict(X_test)\n",
        "cm = confusion_matrix(y_test, y_pred_best)\n",
        "fig = plt.figure(figsize=(7, 6))\n",
        "disp = ConfusionMatrixDisplay(confusion_matrix=cm, display_labels=np.unique(y_test))\n",
        "disp.plot(values_format='d', cmap=\"Blues\", ax=plt.gca(), colorbar=False)\n",
        "plt.title(f\"Confusion Matrix — {best_name}\")\n",
        "plt.tight_layout()\n",
        "plt.show()"
      ],
      "metadata": {
        "colab": {
          "base_uri": "https://localhost:8080/",
          "height": 607
        },
        "id": "UOHU6Muuea3m",
        "outputId": "3ebc32f9-c795-4237-c06a-fa10466a0d43"
      },
      "execution_count": 23,
      "outputs": [
        {
          "output_type": "display_data",
          "data": {
            "text/plain": [
              "<Figure size 700x600 with 1 Axes>"
            ],
            "image/png": "[encoded data removed]"
          },
          "metadata": {}
        }
      ]
    },
    {
      "cell_type": "code",
      "source": [
        "import pandas as pd\n",
        "\n",
        "def get_feature_names_from_preprocessor(prep, X_sample):\n",
        "    \"\"\"Return correct feature names after preprocessing\"\"\"\n",
        "    transformed = prep.transform(X_sample[:1])\n",
        "    if hasattr(transformed, \"toarray\"):  # in case it's sparse\n",
        "        transformed = transformed.toarray()\n",
        "    return prep.get_feature_names_out()\n",
        "\n",
        "# Use the fitted preprocessor inside best_pipe\n",
        "prep = best_pipe.named_steps[\"prep\"]\n",
        "model = best_pipe.named_steps[\"model\"]\n",
        "\n",
        "# Extract names\n",
        "feature_names = get_feature_names_from_preprocessor(prep, X_train)\n",
        "import matplotlib.pyplot as plt\n",
        "import numpy as np\n",
        "\n",
        "if hasattr(model, \"feature_importances_\"):\n",
        "    importances = model.feature_importances_\n",
        "    idx = np.argsort(importances)[::-1][:15]  # top 15\n",
        "    plt.figure(figsize=(8,6))\n",
        "    plt.barh(np.array(feature_names)[idx], importances[idx])\n",
        "    plt.gca().invert_yaxis()\n",
        "    plt.title(f\"Top Features — {best_name}\")\n",
        "    plt.show()"
      ],
      "metadata": {
        "colab": {
          "base_uri": "https://localhost:8080/",
          "height": 495
        },
        "id": "Bl7ManSUeclT",
        "outputId": "a7dccdf3-fc54-4408-8860-e467e564e848"
      },
      "execution_count": 33,
      "outputs": [
        {
          "output_type": "display_data",
          "data": {
            "text/plain": [
              "<Figure size 800x600 with 1 Axes>"
            ],
            "image/png": "[encoded data removed]"
          },
          "metadata": {}
        }
      ]
    },
    {
      "cell_type": "code",
      "source": [
        "#  Final report for the selected best model\n",
        "print(\"Final Report (Best Model on Test Set) \")\n",
        "print(classification_report(y_test, y_pred_best))\n",
        "print(f\"Accuracy: {accuracy_score(y_test, y_pred_best):.4f}\")\n",
        "print(f\"Macro-F1: {f1_score(y_test, y_pred_best, average='macro'):.4f}\")"
      ],
      "metadata": {
        "colab": {
          "base_uri": "https://localhost:8080/"
        },
        "id": "L4XJogLiejpG",
        "outputId": "e2041223-92c1-45e0-fa5e-111f52755a84"
      },
      "execution_count": 34,
      "outputs": [
        {
          "output_type": "stream",
          "name": "stdout",
          "text": [
            "Final Report (Best Model on Test Set) \n",
            "              precision    recall  f1-score   support\n",
            "\n",
            "           0       0.81      0.81      0.81       738\n",
            "           1       0.83      0.85      0.84       975\n",
            "           2       0.76      0.83      0.79       118\n",
            "           3       0.62      0.50      0.56        10\n",
            "           4       0.85      0.33      0.48        33\n",
            "           5       0.75      0.63      0.68        60\n",
            "           6       0.92      0.82      0.86        66\n",
            "\n",
            "    accuracy                           0.81      2000\n",
            "   macro avg       0.79      0.68      0.72      2000\n",
            "weighted avg       0.81      0.81      0.81      2000\n",
            "\n",
            "Accuracy: 0.8140\n",
            "Macro-F1: 0.7170\n"
          ]
        }
      ]
    }
  ]
}